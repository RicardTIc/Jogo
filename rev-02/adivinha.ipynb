{
 "cells": [
  {
   "cell_type": "markdown",
   "metadata": {},
   "source": [
    "## JOGO DE ADIVINHA\n"
   ]
  },
  {
   "cell_type": "code",
   "execution_count": null,
   "metadata": {},
   "outputs": [],
   "source": [
    "#### 1 Exercicio\n",
    "Implemente um programa em Python faça a seguinte brincadeiras:\n",
    "O programa informa que \"está pensando\" em um número entre 1 e 100 e peça\n",
    "para você adivinhar.\n",
    "O programa gera então um valor inteiro aleatório entre 1 e 100 (incluindo 1 e\n",
    "100) e da, no máximo, 8 oportunidades para você adivinhar.\n",
    "A cada tentativa o programa responde:\n",
    "Não o número é maior (:-(\n",
    "Não o número é menor (:-O\n",
    "Parabéns você acertou (:-)\n",
    "Lamento, acabaram suas oportunidades (;-)"
   ]
  },
  {
   "cell_type": "code",
   "execution_count": 1,
   "metadata": {},
   "outputs": [
    {
     "name": "stdout",
     "output_type": "stream",
     "text": [
      "Estou pensando em um número entre 1 e 100. Tente adivinhar!\n",
      "Não, o número é maior (:-(\n",
      "Não, o número é maior (:-(\n",
      "Não, o número é maior (:-(\n",
      "Não, o número é maior (:-(\n",
      "Não, o número é maior (:-(\n",
      "Não, o número é menor (:-O)\n",
      "Não, o número é menor (:-O)\n",
      "Por favor, digite um número válido.\n",
      "Lamento, acabaram suas oportunidades (;-) O número era 66.\n"
     ]
    }
   ],
   "source": [
    "import random\n",
    "\n",
    "def jogo_adivinhacao():\n",
    "    # Gera um número aleatório entre 1 e 100\n",
    "    numero_secreto = random.randint(1, 100)\n",
    "    \n",
    "    # Número máximo de tentativas permitidas\n",
    "    tentativas_maximas = 8\n",
    "    \n",
    "    print(\"Estou pensando em um número entre 1 e 100. Tente adivinhar!\")\n",
    "\n",
    "    for tentativa in range(1, tentativas_maximas + 1):\n",
    "        # Solicita uma tentativa ao usuário\n",
    "        try:\n",
    "            palpite = int(input(f\"Tentativa {tentativa}/{tentativas_maximas}: Digite seu palpite: \"))\n",
    "        except ValueError:\n",
    "            print(\"Por favor, digite um número válido.\")\n",
    "            continue\n",
    "\n",
    "        # Verifica se o palpite é igual ao número secreto\n",
    "        if palpite == numero_secreto:\n",
    "            print(\"Parabéns, você acertou! (:-)\")\n",
    "            break\n",
    "        elif palpite < numero_secreto:\n",
    "            print(\"Não, o número é maior (:-(\")\n",
    "        else:\n",
    "            print(\"Não, o número é menor (:-O)\")\n",
    "\n",
    "    else:\n",
    "        # Executado se o loop terminar sem o uso de 'break'\n",
    "        print(f\"Lamento, acabaram suas oportunidades (;-) O número era {numero_secreto}.\")\n",
    "\n",
    "# Chama a função para iniciar o jogo\n",
    "jogo_adivinhacao()\n"
   ]
  },
  {
   "cell_type": "markdown",
   "metadata": {},
   "source": [
    "##### 2 Exercicio\n",
    "\n",
    "Implemente um programa em Python faça a seguinte brincadeiras:\n",
    "O programa pede para você pensar em um número entre 1 e 100 que ele vai\n",
    "adivinhar.\n",
    "Você pensa em um valor inteiro aleatório entre 1 e 100 (incluindo 1 e 100) e o\n",
    "programa tem, no máximo, 8 oportunidades para você adivinhar.\n",
    "A cada tentativa o programa o computador pergunta para vc se:\n",
    "Não o número é maior (:-(\n",
    "Não o número é menor (:-O\n",
    "Parabéns você acertou (:-)\n",
    "Se exceder as 8 tentativas sem acertar o computador resoponde:\n",
    "Que pena, acabaram minhas oportunidades (;-). Qual foi o número que\n",
    "você pensou?\n",
    "O computador deve verificar se sua resposta anteriores estão corretas e, casso\n",
    "você tenha enganado a aplicação ele retorna:\n",
    "Você trapaceou (:-(. o número x não é maior/menor que meu chute y.\n",
    "Substitua x pelo valor pensado pelo usuário, y pelo valor tentativo dado\n",
    "pelo computador e maior ou menor pela resposta dada por você e que\n",
    "estava incorreta."
   ]
  },
  {
   "cell_type": "code",
   "execution_count": 2,
   "metadata": {},
   "outputs": [
    {
     "name": "stdout",
     "output_type": "stream",
     "text": [
      "Pense em um número entre 1 e 100, e eu vou tentar adivinhar!\n",
      "Resposta inválida. Por favor, digite ':-', ':-O' ou ':-)'.\n",
      "Resposta inválida. Por favor, digite ':-', ':-O' ou ':-)'.\n",
      "Resposta inválida. Por favor, digite ':-', ':-O' ou ':-)'.\n",
      "Yay! Eu acertei! (:-)\n"
     ]
    }
   ],
   "source": [
    "import random\n",
    "\n",
    "def jogo_adivinhacao_computador():\n",
    "    # O usuário pensa em um número aleatório entre 1 e 100\n",
    "    numero_pensado = random.randint(1, 100)\n",
    "    \n",
    "    # Número máximo de tentativas permitidas pelo computador\n",
    "    tentativas_maximas = 8\n",
    "    tentativas_feitas = 0\n",
    "    \n",
    "    print(\"Pense em um número entre 1 e 100, e eu vou tentar adivinhar!\")\n",
    "\n",
    "    while tentativas_feitas < tentativas_maximas:\n",
    "        # O computador faz uma tentativa\n",
    "        palpite = random.randint(1, 100)\n",
    "\n",
    "        # O usuário fornece feedback ao computador\n",
    "        resposta = input(f\"Meu palpite é {palpite}. O número é maior (:-), menor (:-O) ou acertei (:-)? \").lower()\n",
    "\n",
    "        if resposta == \":-\":\n",
    "            # O número é maior\n",
    "            print(\"Ok, vou tentar um número maior!\")\n",
    "            palpite += 1\n",
    "        elif resposta == \":-o\":\n",
    "            # O número é menor\n",
    "            print(\"Ok, vou tentar um número menor!\")\n",
    "            palpite -= 1\n",
    "        elif resposta == \":-)\":\n",
    "            # O computador acertou\n",
    "            print(\"Yay! Eu acertei! (:-)\")\n",
    "            break\n",
    "        else:\n",
    "            print(\"Resposta inválida. Por favor, digite ':-', ':-O' ou ':-)'.\")\n",
    "\n",
    "        tentativas_feitas += 1\n",
    "\n",
    "    else:\n",
    "        # O usuário informa o número que pensou se o computador não acertar em 8 tentativas\n",
    "        resposta_final = int(input(\"Que pena, acabaram minhas oportunidades (;-). Qual foi o número que você pensou? \"))\n",
    "\n",
    "        # Verifica se o usuário trapaceou ao fornecer feedback incorreto nas respostas anteriores\n",
    "        if resposta_final != numero_pensado:\n",
    "            print(f\"Você trapaceou! (:-( O número {resposta_final} não é {'' if resposta_final > palpite else 'maior/' if resposta_final < palpite else 'menor/'} que meu chute {palpite}.\")\n",
    "        else:\n",
    "            print(\"Obrigado por jogar!\")\n",
    "\n",
    "# Chama a função para iniciar o jogo\n",
    "jogo_adivinhacao_computador()\n"
   ]
  }
 ],
 "metadata": {
  "kernelspec": {
   "display_name": "Python 3",
   "language": "python",
   "name": "python3"
  },
  "language_info": {
   "codemirror_mode": {
    "name": "ipython",
    "version": 3
   },
   "file_extension": ".py",
   "mimetype": "text/x-python",
   "name": "python",
   "nbconvert_exporter": "python",
   "pygments_lexer": "ipython3",
   "version": "3.12.0"
  }
 },
 "nbformat": 4,
 "nbformat_minor": 2
}
